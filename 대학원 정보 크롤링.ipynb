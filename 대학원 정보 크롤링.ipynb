{
 "cells": [
  {
   "cell_type": "markdown",
   "id": "d437c231",
   "metadata": {},
   "source": [
    "pip install selenium"
   ]
  },
  {
   "cell_type": "code",
   "execution_count": 259,
   "id": "9eeba9b0",
   "metadata": {
    "scrolled": true
   },
   "outputs": [],
   "source": [
    "import pandas as pd\n",
    "from selenium.webdriver.common.by import By\n",
    "from selenium.webdriver.support.ui import WebDriverWait\n",
    "from selenium.webdriver.support import expected_conditions as EC\n",
    "import time\n",
    "import os"
   ]
  },
  {
   "cell_type": "code",
   "execution_count": 281,
   "id": "4e3ba36f",
   "metadata": {},
   "outputs": [],
   "source": [
    "univ_data=pd.read_excel('외국인 학생(대학원)_학교명.xlsx')\n",
    "univ=univ_data['학교명'].to_list()"
   ]
  },
  {
   "cell_type": "code",
   "execution_count": 282,
   "id": "ea812eb7",
   "metadata": {},
   "outputs": [
    {
     "data": {
      "text/plain": [
       "['가천대학교 경영대학원', '가천대학교 일반대학원', '가톨릭대학교 대학원', '가톨릭대학교 사회복지대학원']"
      ]
     },
     "execution_count": 282,
     "metadata": {},
     "output_type": "execute_result"
    }
   ],
   "source": [
    "univ"
   ]
  },
  {
   "cell_type": "code",
   "execution_count": 290,
   "id": "8373b00c",
   "metadata": {
    "scrolled": true
   },
   "outputs": [
    {
     "name": "stderr",
     "output_type": "stream",
     "text": [
      "C:\\Users\\USER\\AppData\\Local\\Temp/ipykernel_24608/4091781129.py:3: DeprecationWarning: executable_path has been deprecated, please pass in a Service object\n",
      "  driver = webdriver.Chrome('C:/Users/USER/AppData/Local/Temp/BNZ.63046a9739b722c0/chromedriver')\n"
     ]
    }
   ],
   "source": [
    "from selenium import webdriver\n",
    "# 대학알리미 사이트 열기\n",
    "driver = webdriver.Chrome('C:/Users/USER/AppData/Local/Temp/BNZ.63046a9739b722c0/chromedriver')\n",
    "driver.implicitly_wait(3)\n",
    "driver.get('https://www.academyinfo.go.kr/search/search.do')"
   ]
  },
  {
   "cell_type": "code",
   "execution_count": 288,
   "id": "308c01a7",
   "metadata": {
    "scrolled": true
   },
   "outputs": [],
   "source": [
    "for univ_name in univ:\n",
    "    search_box = driver.find_element(\"xpath\",'//*[@id=\"srchKwd\"]') # 검색어 입력창 선택\n",
    "    search_box.clear() #기존 입력값 지우기\n",
    "    search_box.send_keys(univ_name) #대학명 입력\n",
    "    search_button = driver.find_element(\"xpath\",'/html/body/div[1]/div[1]/div/div[1]/div/div[2]/div[1]/button') # 검색버튼 선택\n",
    "    search_button.click() #검색버튼 클릭\n",
    "    \n",
    "    # 대학개별공시 바로가기 클릭\n",
    "    try:\n",
    "        driver.find_element(\"xpath\",'//*[@id=\"contentsWrap\"]/div/div/div[1]/div[1]/div/a').click()\n",
    "    except:\n",
    "        driver.find_element(\"xpath\",'//*[@id=\"contentsWrap\"]/div/div/div[2]/div[1]/div/a').click()\n",
    "    \n",
    "    driver.switch_to.window(driver.window_handles[1]) # 선택창 위치 바꾸기\n",
    "    \n",
    "    driver.find_element(\"xpath\",'//*[@id=\"contentsWrap\"]/div/div/div[3]/div/ul/li[2]/a').click() # 공시정보 클릭\n",
    "    \n",
    "    # 공시정보 / 학과정보만 있는 경우\n",
    "    try:\n",
    "        driver.find_element(\"xpath\",'//*[@id=\"tab02\"]/li[6]/a').click() # 전체목록 클릭\n",
    "        driver.find_element(\"xpath\",'//*[@id=\"allItemList\"]/div[1]/div[2]/ol/li[1]/ul/li[1]/button[3]').click() # 외국인 학생현황 클릭\n",
    "    except :\n",
    "        driver.find_element(\"xpath\",'//*[@id=\"contentsWrap\"]/div/div/div[3]/div/ul/li[1]/a').click() # 공시정보 클릭\n",
    "        driver.find_element(\"xpath\",'//*[@id=\"tab02\"]/li[6]/a').click() # 전체목록 클릭\n",
    "        driver.find_element(\"xpath\",'//*[@id=\"allItemList\"]/div[1]/div[1]/ol/li[6]/ul/li[1]/button[3]').click() # 외국인 학생현황 클릭\n",
    "    \n",
    "    driver.switch_to.window(driver.window_handles[2]) # 선택창 위치 바꾸기\n",
    "\n",
    "    time.sleep(2) # 기다리기\n",
    "    driver.find_element(\"xpath\",'//*[@id=\"UbiHTMLViewerUbiToolbarButton_SaveButton\"]').click() # 엑셀파일 저장\n",
    "    time.sleep(2) # 기다리기\n",
    "    \n",
    "    driver.close() # 창 닫기\n",
    "    driver.switch_to.window(driver.window_handles[1]) # 선택창 위치 바꾸기\n",
    "    driver.close() # 창 닫기       \n",
    "    driver.switch_to.window(driver.window_handles[0]) # 선택창 위치 바꾸기\n",
    "    \n",
    "    \n",
    "    ## 파일 위치, 이름 바꾸기\n",
    "    files_Path = \"C:/Users/USER/Downloads/\" # 파일들이 들어있는 폴더\n",
    "    file_name_and_time_lst = []\n",
    "    \n",
    "    # 해당 경로에 있는 파일들의 생성시간을 함께 리스트로 넣어줌. \n",
    "    for f_name in os.listdir(f\"{files_Path}\"):\n",
    "        written_time = os.path.getctime(f\"{files_Path}{f_name}\")\n",
    "        file_name_and_time_lst.append((f_name, written_time))\n",
    "         \n",
    "    sorted_file_lst = sorted(file_name_and_time_lst, key=lambda x: x[1], reverse=True) # 생성시간 역순으로 정렬\n",
    "    \n",
    "    recent_file = sorted_file_lst[0] # 가장 앞에 있는 파일\n",
    "    recent_file_name = recent_file[0]\n",
    "    \n",
    "    # 파일 이름 대학명으로 설정\n",
    "    file_oldname = os.path.join(\"C:/Users/USER/Downloads\",recent_file_name)\n",
    "    new_name=\"외국학생 현황_\" + univ_name + \".xlsx\"\n",
    "    file_newname_newfile = os.path.join(\"C:/Users/USER/Desktop/작업/중앙일보/22' 중앙일보 지표별 계산(공시자료)/test_외국인학생 다양성\", new_name)\n",
    "    os.rename(file_oldname, file_newname_newfile)\n",
    "    \n",
    "    \n",
    "driver.quit()        "
   ]
  },
  {
   "cell_type": "code",
   "execution_count": null,
   "id": "126a6d93",
   "metadata": {},
   "outputs": [],
   "source": []
  }
 ],
 "metadata": {
  "kernelspec": {
   "display_name": "Python 3 (ipykernel)",
   "language": "python",
   "name": "python3"
  },
  "language_info": {
   "codemirror_mode": {
    "name": "ipython",
    "version": 3
   },
   "file_extension": ".py",
   "mimetype": "text/x-python",
   "name": "python",
   "nbconvert_exporter": "python",
   "pygments_lexer": "ipython3",
   "version": "3.9.7"
  }
 },
 "nbformat": 4,
 "nbformat_minor": 5
}
