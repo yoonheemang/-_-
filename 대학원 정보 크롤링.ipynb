{
 "cells": [
  {
   "cell_type": "markdown",
   "id": "774c6c24",
   "metadata": {},
   "source": [
    "pip install selenium"
   ]
  },
  {
   "cell_type": "code",
   "execution_count": 259,
   "id": "b7d1eab8",
   "metadata": {
    "scrolled": true
   },
   "outputs": [],
   "source": [
    "import pandas as pd\n",
    "from selenium.webdriver.common.by import By\n",
    "from selenium.webdriver.support.ui import WebDriverWait\n",
    "from selenium.webdriver.support import expected_conditions as EC\n",
    "import time\n",
    "import os"
   ]
  },
  {
   "cell_type": "code",
   "execution_count": 281,
   "id": "1b0170fc",
   "metadata": {},
   "outputs": [],
   "source": [
    "univ_data=pd.read_excel('외국인 학생(대학원)_학교명.xlsx')\n",
    "univ=univ_data['학교명'].to_list()"
   ]
  },
  {
   "cell_type": "code",
   "execution_count": 282,
   "id": "e64c4f6a",
   "metadata": {},
   "outputs": [
    {
     "data": {
      "text/plain": [
       "['가천대학교 경영대학원', '가천대학교 일반대학원', '가톨릭대학교 대학원', '가톨릭대학교 사회복지대학원']"
      ]
     },
     "execution_count": 282,
     "metadata": {},
     "output_type": "execute_result"
    }
   ],
   "source": [
    "univ"
   ]
  },
  {
   "cell_type": "code",
   "execution_count": 290,
   "id": "629cfcf1",
   "metadata": {
    "scrolled": true
   },
   "outputs": [
    {
     "name": "stderr",
     "output_type": "stream",
     "text": [
      "C:\\Users\\USER\\AppData\\Local\\Temp/ipykernel_24608/4091781129.py:3: DeprecationWarning: executable_path has been deprecated, please pass in a Service object\n",
      "  driver = webdriver.Chrome('C:/Users/USER/AppData/Local/Temp/BNZ.63046a9739b722c0/chromedriver')\n"
     ]
    }
   ],
   "source": [
    "from selenium import webdriver\n",
    "# 대학알리미 사이트 열기\n",
    "driver = webdriver.Chrome('C:/Users/USER/AppData/Local/Temp/BNZ.63046a9739b722c0/chromedriver')\n",
    "driver.implicitly_wait(3)\n",
    "driver.get('https://www.academyinfo.go.kr/search/search.do')"
   ]
  },
  {
   "cell_type": "code",
   "execution_count": 288,
   "id": "61b9d454",
   "metadata": {
    "scrolled": true
   },
   "outputs": [],
   "source": [
    "for univ_name in univ:\n",
    "    search_box = driver.find_element(\"xpath\",'//*[@id=\"srchKwd\"]') # 검색어 입력창 선택\n",
    "    search_box.clear() #기존 입력값 지우기\n",
    "    search_box.send_keys(univ_name) #대학명 입력\n",
    "    search_button = driver.find_element(\"xpath\",'/html/body/div[1]/div[1]/div/div[1]/div/div[2]/div[1]/button') # 검색버튼 선택\n",
    "    search_button.click() #검색버튼 클릭\n",
    "    \n",
    "    # 대학개별공시 바로가기 클릭\n",
    "    try:\n",
    "        driver.find_element(\"xpath\",'//*[@id=\"contentsWrap\"]/div/div/div[1]/div[1]/div/a').click()\n",
    "    except:\n",
    "        driver.find_element(\"xpath\",'//*[@id=\"contentsWrap\"]/div/div/div[2]/div[1]/div/a').click()\n",
    "    \n",
    "    driver.switch_to.window(driver.window_handles[1]) # 선택창 위치 바꾸기\n",
    "    \n",
    "    driver.find_element(\"xpath\",'//*[@id=\"contentsWrap\"]/div/div/div[3]/div/ul/li[2]/a').click() # 공시정보 클릭\n",
    "    \n",
    "    # 공시정보 / 학과정보만 있는 경우\n",
    "    try:\n",
    "        driver.find_element(\"xpath\",'//*[@id=\"tab02\"]/li[6]/a').click() # 전체목록 클릭\n",
    "        driver.find_element(\"xpath\",'//*[@id=\"allItemList\"]/div[1]/div[2]/ol/li[1]/ul/li[1]/button[3]').click() # 외국인 학생현황 클릭\n",
    "    except :\n",
    "        driver.find_element(\"xpath\",'//*[@id=\"contentsWrap\"]/div/div/div[3]/div/ul/li[1]/a').click() # 공시정보 클릭\n",
    "        driver.find_element(\"xpath\",'//*[@id=\"tab02\"]/li[6]/a').click() # 전체목록 클릭\n",
    "        driver.find_element(\"xpath\",'//*[@id=\"allItemList\"]/div[1]/div[1]/ol/li[6]/ul/li[1]/button[3]').click() # 외국인 학생현황 클릭\n",
    "    \n",
    "    driver.switch_to.window(driver.window_handles[2]) # 선택창 위치 바꾸기\n",
    "\n",
    "    time.sleep(2) # 기다리기\n",
    "    driver.find_element(\"xpath\",'//*[@id=\"UbiHTMLViewerUbiToolbarButton_SaveButton\"]').click() # 엑셀파일 저장\n",
    "    time.sleep(2) # 기다리기\n",
    "    \n",
    "    driver.close() # 창 닫기\n",
    "    driver.switch_to.window(driver.window_handles[1]) # 선택창 위치 바꾸기\n",
    "    driver.close() # 창 닫기       \n",
    "    driver.switch_to.window(driver.window_handles[0]) # 선택창 위치 바꾸기\n",
    "    \n",
    "    \n",
    "    ## 파일 위치, 이름 바꾸기\n",
    "    files_Path = \"C:/Users/USER/Downloads/\" # 파일들이 들어있는 폴더\n",
    "    file_name_and_time_lst = []\n",
    "    \n",
    "    # 해당 경로에 있는 파일들의 생성시간을 함께 리스트로 넣어줌. \n",
    "    for f_name in os.listdir(f\"{files_Path}\"):\n",
    "        written_time = os.path.getctime(f\"{files_Path}{f_name}\")\n",
    "        file_name_and_time_lst.append((f_name, written_time))\n",
    "         \n",
    "    sorted_file_lst = sorted(file_name_and_time_lst, key=lambda x: x[1], reverse=True) # 생성시간 역순으로 정렬\n",
    "    \n",
    "    recent_file = sorted_file_lst[0] # 가장 앞에 있는 파일\n",
    "    recent_file_name = recent_file[0]\n",
    "    \n",
    "    # 파일 이름 대학명으로 설정\n",
    "    file_oldname = os.path.join(\"C:/Users/USER/Downloads\",recent_file_name)\n",
    "    new_name=\"외국학생 현황_\" + univ_name + \".xlsx\"\n",
    "    file_newname_newfile = os.path.join(\"C:/Users/USER/Desktop/작업/중앙일보/22' 중앙일보 지표별 계산(공시자료)/test_외국인학생 다양성\", new_name)\n",
    "    os.rename(file_oldname, file_newname_newfile)\n",
    "    \n",
    "    \n",
    "driver.quit()        "
   ]
  },
  {
   "cell_type": "code",
   "execution_count": null,
   "id": "15e978eb",
   "metadata": {},
   "outputs": [],
   "source": []
  },
  {
   "cell_type": "code",
   "execution_count": 274,
   "id": "a6a198e3",
   "metadata": {},
   "outputs": [],
   "source": [
    "\n",
    "\n"
   ]
  },
  {
   "cell_type": "code",
   "execution_count": 206,
   "id": "69926dcb",
   "metadata": {},
   "outputs": [],
   "source": [
    "# 입력창 선택\n",
    "search_box = driver.find_element(\"xpath\",'//*[@id=\"srchKwd\"]')\n",
    "search_box.clear()\n",
    "search_box.send_keys('동국대학교')\n",
    "\n",
    "search_button = driver.find_element(\"xpath\",'/html/body/div[1]/div[1]/div/div[1]/div/div[2]/div[1]/button')\n",
    "search_button.click()\n",
    "\n",
    "# 대학개별공시 바로가기 클릭\n",
    "driver.find_element(\"xpath\",'//*[@id=\"contentsWrap\"]/div/div/div[1]/div[1]/div/a').click()\n",
    "\n",
    "driver.switch_to.window(driver.window_handles[1])\n",
    "driver.get_window_position(driver.window_handles[1])\n",
    "\n",
    "# 공시정보 클릭\n",
    "driver.find_element(By.CSS_SELECTOR,'#contentsWrap > div > div > div.ui-tabs-wrap > div > ul > li:nth-child(2) > a').click()\n",
    "\n",
    "# 전체목록 클릭\n",
    "driver.find_element(\"xpath\",'//*[@id=\"tab02\"]/li[6]/a').click()\n",
    "\n",
    "# 외국인 학생현황 클릭\n",
    "driver.find_element(\"xpath\",'//*[@id=\"allItemList\"]/div[1]/div[2]/ol/li[1]/ul/li[1]/button[3]').click()\n",
    "\n",
    "driver.switch_to.window(driver.window_handles[2])\n",
    "driver.get_window_position(driver.window_handles[2])\n",
    "\n",
    "# wait until someid is clickable\n",
    "wait = WebDriverWait(driver, 10)\n",
    "element = wait.until(EC.element_to_be_clickable((\"xpath\",'//*[@id=\"UbiHTMLViewerUbiToolbarButton_SaveText\"]')))\n",
    "\n",
    "# 엑셀파일 저장\n",
    "driver.find_element(\"xpath\",'//*[@id=\"UbiHTMLViewerUbiToolbarButton_SaveText\"]').click()\n",
    "time.sleep(5)\n",
    "\n",
    "driver.close()"
   ]
  },
  {
   "cell_type": "code",
   "execution_count": null,
   "id": "0129a6c1",
   "metadata": {},
   "outputs": [],
   "source": [
    "driver.close()\n",
    "\n",
    "driver.switch_to.window(driver.window_handles[1])\n",
    "driver.get_window_position(driver.window_handles[1])\n",
    "\n",
    "#driver.close()\n",
    "\n",
    "driver.switch_to.window(driver.window_handles[0])\n",
    "driver.get_window_position(driver.window_handles[0])\n",
    "\n",
    "#driver.quit()     "
   ]
  },
  {
   "cell_type": "code",
   "execution_count": null,
   "id": "11cbb8fc",
   "metadata": {},
   "outputs": [],
   "source": []
  },
  {
   "cell_type": "code",
   "execution_count": null,
   "id": "0700cb60",
   "metadata": {},
   "outputs": [],
   "source": []
  },
  {
   "cell_type": "code",
   "execution_count": null,
   "id": "58226354",
   "metadata": {},
   "outputs": [],
   "source": []
  },
  {
   "cell_type": "code",
   "execution_count": 247,
   "id": "2d63660c",
   "metadata": {},
   "outputs": [],
   "source": [
    "# 입력창 선택\n",
    "search_box = driver.find_element(\"xpath\",'//*[@id=\"srchKwd\"]')\n",
    "search_box.clear()\n",
    "search_box.send_keys('가천대학교')"
   ]
  },
  {
   "cell_type": "code",
   "execution_count": 248,
   "id": "862a9d7f",
   "metadata": {
    "scrolled": true
   },
   "outputs": [],
   "source": [
    "search_button = driver.find_element(\"xpath\",'/html/body/div[1]/div[1]/div/div[1]/div/div[2]/div[1]/button')\n",
    "search_button.click()"
   ]
  },
  {
   "cell_type": "code",
   "execution_count": 250,
   "id": "ca4e4d33",
   "metadata": {
    "scrolled": true
   },
   "outputs": [],
   "source": [
    "# 대학개별공시 바로가기 클릭\n",
    "try:\n",
    "    driver.find_element(\"xpath\",'//*[@id=\"contentsWrap\"]/div/div/div[1]/div[1]/div/a').click()\n",
    "except:\n",
    "    driver.find_element(\"xpath\",'//*[@id=\"contentsWrap\"]/div/div/div[2]/div[1]/div/a').click()"
   ]
  },
  {
   "cell_type": "code",
   "execution_count": 256,
   "id": "c439030e",
   "metadata": {
    "collapsed": true
   },
   "outputs": [
    {
     "ename": "InvalidArgumentException",
     "evalue": "Message: invalid argument: 'handle' must be a string\n  (Session info: chrome=104.0.5112.81)\nStacktrace:\nBacktrace:\n\tOrdinal0 [0x008478B3+2193587]\n\tOrdinal0 [0x007E0681+1771137]\n\tOrdinal0 [0x006F41A8+803240]\n\tOrdinal0 [0x00745411+1135633]\n\tOrdinal0 [0x0073D773+1103731]\n\tOrdinal0 [0x007177E0+948192]\n\tOrdinal0 [0x007186E6+952038]\n\tGetHandleVerifier [0x00AF0CB2+2738370]\n\tGetHandleVerifier [0x00AE21B8+2678216]\n\tGetHandleVerifier [0x008D17AA+512954]\n\tGetHandleVerifier [0x008D0856+509030]\n\tOrdinal0 [0x007E743B+1799227]\n\tOrdinal0 [0x007EBB68+1817448]\n\tOrdinal0 [0x007EBC55+1817685]\n\tOrdinal0 [0x007F5230+1856048]\n\tBaseThreadInitThunk [0x7530FA29+25]\n\tRtlGetAppContainerNamedObjectPath [0x770A7A9E+286]\n\tRtlGetAppContainerNamedObjectPath [0x770A7A6E+238]\n",
     "output_type": "error",
     "traceback": [
      "\u001b[1;31m---------------------------------------------------------------------------\u001b[0m",
      "\u001b[1;31mInvalidArgumentException\u001b[0m                  Traceback (most recent call last)",
      "\u001b[1;32m~\\AppData\\Local\\Temp/ipykernel_24608/3665745915.py\u001b[0m in \u001b[0;36m<module>\u001b[1;34m\u001b[0m\n\u001b[1;32m----> 1\u001b[1;33m \u001b[0mdriver\u001b[0m\u001b[1;33m.\u001b[0m\u001b[0mswitch_to\u001b[0m\u001b[1;33m.\u001b[0m\u001b[0mwindow\u001b[0m\u001b[1;33m(\u001b[0m\u001b[0mdriver\u001b[0m\u001b[1;33m.\u001b[0m\u001b[0mforward\u001b[0m\u001b[1;33m(\u001b[0m\u001b[1;33m)\u001b[0m\u001b[1;33m)\u001b[0m\u001b[1;33m\u001b[0m\u001b[1;33m\u001b[0m\u001b[0m\n\u001b[0m\u001b[0;32m      2\u001b[0m \u001b[0mdriver\u001b[0m\u001b[1;33m.\u001b[0m\u001b[0mget_window_position\u001b[0m\u001b[1;33m(\u001b[0m\u001b[0mdriver\u001b[0m\u001b[1;33m.\u001b[0m\u001b[0mforward\u001b[0m\u001b[1;33m(\u001b[0m\u001b[1;33m)\u001b[0m\u001b[1;33m)\u001b[0m\u001b[1;33m\u001b[0m\u001b[1;33m\u001b[0m\u001b[0m\n",
      "\u001b[1;32m~\\anaconda3\\lib\\site-packages\\selenium\\webdriver\\remote\\switch_to.py\u001b[0m in \u001b[0;36mwindow\u001b[1;34m(self, window_name)\u001b[0m\n\u001b[0;32m    132\u001b[0m                 \u001b[0mdriver\u001b[0m\u001b[1;33m.\u001b[0m\u001b[0mswitch_to\u001b[0m\u001b[1;33m.\u001b[0m\u001b[0mwindow\u001b[0m\u001b[1;33m(\u001b[0m\u001b[1;34m'main'\u001b[0m\u001b[1;33m)\u001b[0m\u001b[1;33m\u001b[0m\u001b[1;33m\u001b[0m\u001b[0m\n\u001b[0;32m    133\u001b[0m         \"\"\"\n\u001b[1;32m--> 134\u001b[1;33m         \u001b[0mself\u001b[0m\u001b[1;33m.\u001b[0m\u001b[0m_w3c_window\u001b[0m\u001b[1;33m(\u001b[0m\u001b[0mwindow_name\u001b[0m\u001b[1;33m)\u001b[0m\u001b[1;33m\u001b[0m\u001b[1;33m\u001b[0m\u001b[0m\n\u001b[0m\u001b[0;32m    135\u001b[0m         \u001b[1;32mreturn\u001b[0m\u001b[1;33m\u001b[0m\u001b[1;33m\u001b[0m\u001b[0m\n\u001b[0;32m    136\u001b[0m \u001b[1;33m\u001b[0m\u001b[0m\n",
      "\u001b[1;32m~\\anaconda3\\lib\\site-packages\\selenium\\webdriver\\remote\\switch_to.py\u001b[0m in \u001b[0;36m_w3c_window\u001b[1;34m(self, window_name)\u001b[0m\n\u001b[0;32m    141\u001b[0m         \u001b[1;32mtry\u001b[0m\u001b[1;33m:\u001b[0m\u001b[1;33m\u001b[0m\u001b[1;33m\u001b[0m\u001b[0m\n\u001b[0;32m    142\u001b[0m             \u001b[1;31m# Try using it as a handle first.\u001b[0m\u001b[1;33m\u001b[0m\u001b[1;33m\u001b[0m\u001b[0m\n\u001b[1;32m--> 143\u001b[1;33m             \u001b[0msend_handle\u001b[0m\u001b[1;33m(\u001b[0m\u001b[0mwindow_name\u001b[0m\u001b[1;33m)\u001b[0m\u001b[1;33m\u001b[0m\u001b[1;33m\u001b[0m\u001b[0m\n\u001b[0m\u001b[0;32m    144\u001b[0m         \u001b[1;32mexcept\u001b[0m \u001b[0mNoSuchWindowException\u001b[0m\u001b[1;33m:\u001b[0m\u001b[1;33m\u001b[0m\u001b[1;33m\u001b[0m\u001b[0m\n\u001b[0;32m    145\u001b[0m             \u001b[1;31m# Check every window to try to find the given window name.\u001b[0m\u001b[1;33m\u001b[0m\u001b[1;33m\u001b[0m\u001b[0m\n",
      "\u001b[1;32m~\\anaconda3\\lib\\site-packages\\selenium\\webdriver\\remote\\switch_to.py\u001b[0m in \u001b[0;36msend_handle\u001b[1;34m(h)\u001b[0m\n\u001b[0;32m    137\u001b[0m     \u001b[1;32mdef\u001b[0m \u001b[0m_w3c_window\u001b[0m\u001b[1;33m(\u001b[0m\u001b[0mself\u001b[0m\u001b[1;33m,\u001b[0m \u001b[0mwindow_name\u001b[0m\u001b[1;33m)\u001b[0m\u001b[1;33m:\u001b[0m\u001b[1;33m\u001b[0m\u001b[1;33m\u001b[0m\u001b[0m\n\u001b[0;32m    138\u001b[0m         \u001b[1;32mdef\u001b[0m \u001b[0msend_handle\u001b[0m\u001b[1;33m(\u001b[0m\u001b[0mh\u001b[0m\u001b[1;33m)\u001b[0m\u001b[1;33m:\u001b[0m\u001b[1;33m\u001b[0m\u001b[1;33m\u001b[0m\u001b[0m\n\u001b[1;32m--> 139\u001b[1;33m             \u001b[0mself\u001b[0m\u001b[1;33m.\u001b[0m\u001b[0m_driver\u001b[0m\u001b[1;33m.\u001b[0m\u001b[0mexecute\u001b[0m\u001b[1;33m(\u001b[0m\u001b[0mCommand\u001b[0m\u001b[1;33m.\u001b[0m\u001b[0mSWITCH_TO_WINDOW\u001b[0m\u001b[1;33m,\u001b[0m \u001b[1;33m{\u001b[0m\u001b[1;34m'handle'\u001b[0m\u001b[1;33m:\u001b[0m \u001b[0mh\u001b[0m\u001b[1;33m}\u001b[0m\u001b[1;33m)\u001b[0m\u001b[1;33m\u001b[0m\u001b[1;33m\u001b[0m\u001b[0m\n\u001b[0m\u001b[0;32m    140\u001b[0m \u001b[1;33m\u001b[0m\u001b[0m\n\u001b[0;32m    141\u001b[0m         \u001b[1;32mtry\u001b[0m\u001b[1;33m:\u001b[0m\u001b[1;33m\u001b[0m\u001b[1;33m\u001b[0m\u001b[0m\n",
      "\u001b[1;32m~\\anaconda3\\lib\\site-packages\\selenium\\webdriver\\remote\\webdriver.py\u001b[0m in \u001b[0;36mexecute\u001b[1;34m(self, driver_command, params)\u001b[0m\n\u001b[0;32m    426\u001b[0m         \u001b[0mresponse\u001b[0m \u001b[1;33m=\u001b[0m \u001b[0mself\u001b[0m\u001b[1;33m.\u001b[0m\u001b[0mcommand_executor\u001b[0m\u001b[1;33m.\u001b[0m\u001b[0mexecute\u001b[0m\u001b[1;33m(\u001b[0m\u001b[0mdriver_command\u001b[0m\u001b[1;33m,\u001b[0m \u001b[0mparams\u001b[0m\u001b[1;33m)\u001b[0m\u001b[1;33m\u001b[0m\u001b[1;33m\u001b[0m\u001b[0m\n\u001b[0;32m    427\u001b[0m         \u001b[1;32mif\u001b[0m \u001b[0mresponse\u001b[0m\u001b[1;33m:\u001b[0m\u001b[1;33m\u001b[0m\u001b[1;33m\u001b[0m\u001b[0m\n\u001b[1;32m--> 428\u001b[1;33m             \u001b[0mself\u001b[0m\u001b[1;33m.\u001b[0m\u001b[0merror_handler\u001b[0m\u001b[1;33m.\u001b[0m\u001b[0mcheck_response\u001b[0m\u001b[1;33m(\u001b[0m\u001b[0mresponse\u001b[0m\u001b[1;33m)\u001b[0m\u001b[1;33m\u001b[0m\u001b[1;33m\u001b[0m\u001b[0m\n\u001b[0m\u001b[0;32m    429\u001b[0m             response['value'] = self._unwrap_value(\n\u001b[0;32m    430\u001b[0m                 response.get('value', None))\n",
      "\u001b[1;32m~\\anaconda3\\lib\\site-packages\\selenium\\webdriver\\remote\\errorhandler.py\u001b[0m in \u001b[0;36mcheck_response\u001b[1;34m(self, response)\u001b[0m\n\u001b[0;32m    241\u001b[0m                 \u001b[0malert_text\u001b[0m \u001b[1;33m=\u001b[0m \u001b[0mvalue\u001b[0m\u001b[1;33m[\u001b[0m\u001b[1;34m'alert'\u001b[0m\u001b[1;33m]\u001b[0m\u001b[1;33m.\u001b[0m\u001b[0mget\u001b[0m\u001b[1;33m(\u001b[0m\u001b[1;34m'text'\u001b[0m\u001b[1;33m)\u001b[0m\u001b[1;33m\u001b[0m\u001b[1;33m\u001b[0m\u001b[0m\n\u001b[0;32m    242\u001b[0m             \u001b[1;32mraise\u001b[0m \u001b[0mexception_class\u001b[0m\u001b[1;33m(\u001b[0m\u001b[0mmessage\u001b[0m\u001b[1;33m,\u001b[0m \u001b[0mscreen\u001b[0m\u001b[1;33m,\u001b[0m \u001b[0mstacktrace\u001b[0m\u001b[1;33m,\u001b[0m \u001b[0malert_text\u001b[0m\u001b[1;33m)\u001b[0m  \u001b[1;31m# type: ignore[call-arg]  # mypy is not smart enough here\u001b[0m\u001b[1;33m\u001b[0m\u001b[1;33m\u001b[0m\u001b[0m\n\u001b[1;32m--> 243\u001b[1;33m         \u001b[1;32mraise\u001b[0m \u001b[0mexception_class\u001b[0m\u001b[1;33m(\u001b[0m\u001b[0mmessage\u001b[0m\u001b[1;33m,\u001b[0m \u001b[0mscreen\u001b[0m\u001b[1;33m,\u001b[0m \u001b[0mstacktrace\u001b[0m\u001b[1;33m)\u001b[0m\u001b[1;33m\u001b[0m\u001b[1;33m\u001b[0m\u001b[0m\n\u001b[0m",
      "\u001b[1;31mInvalidArgumentException\u001b[0m: Message: invalid argument: 'handle' must be a string\n  (Session info: chrome=104.0.5112.81)\nStacktrace:\nBacktrace:\n\tOrdinal0 [0x008478B3+2193587]\n\tOrdinal0 [0x007E0681+1771137]\n\tOrdinal0 [0x006F41A8+803240]\n\tOrdinal0 [0x00745411+1135633]\n\tOrdinal0 [0x0073D773+1103731]\n\tOrdinal0 [0x007177E0+948192]\n\tOrdinal0 [0x007186E6+952038]\n\tGetHandleVerifier [0x00AF0CB2+2738370]\n\tGetHandleVerifier [0x00AE21B8+2678216]\n\tGetHandleVerifier [0x008D17AA+512954]\n\tGetHandleVerifier [0x008D0856+509030]\n\tOrdinal0 [0x007E743B+1799227]\n\tOrdinal0 [0x007EBB68+1817448]\n\tOrdinal0 [0x007EBC55+1817685]\n\tOrdinal0 [0x007F5230+1856048]\n\tBaseThreadInitThunk [0x7530FA29+25]\n\tRtlGetAppContainerNamedObjectPath [0x770A7A9E+286]\n\tRtlGetAppContainerNamedObjectPath [0x770A7A6E+238]\n"
     ]
    }
   ],
   "source": [
    "driver.switch_to.window(driver.window_handles[-1])"
   ]
  },
  {
   "cell_type": "code",
   "execution_count": 239,
   "id": "3d6e6ba0",
   "metadata": {
    "scrolled": true
   },
   "outputs": [],
   "source": [
    "# 공시정보 클릭\n",
    "driver.find_element(By.CSS_SELECTOR,'#contentsWrap > div > div > div.ui-tabs-wrap > div > ul > li:nth-child(2) > a').click()"
   ]
  },
  {
   "cell_type": "code",
   "execution_count": 240,
   "id": "232679c4",
   "metadata": {},
   "outputs": [],
   "source": [
    "# 전체목록 클릭\n",
    "driver.find_element(\"xpath\",'//*[@id=\"tab02\"]/li[6]/a').click()"
   ]
  },
  {
   "cell_type": "code",
   "execution_count": 241,
   "id": "bfc8efc4",
   "metadata": {},
   "outputs": [],
   "source": [
    "# 외국인 학생현황 클릭\n",
    "driver.find_element(\"xpath\",'//*[@id=\"allItemList\"]/div[1]/div[2]/ol/li[1]/ul/li[1]/button[3]').click()"
   ]
  },
  {
   "cell_type": "code",
   "execution_count": 242,
   "id": "5cf6ffe5",
   "metadata": {},
   "outputs": [
    {
     "data": {
      "text/plain": [
       "{'x': 10, 'y': 10}"
      ]
     },
     "execution_count": 242,
     "metadata": {},
     "output_type": "execute_result"
    }
   ],
   "source": [
    "driver.switch_to.window(driver.window_handles[2])"
   ]
  },
  {
   "cell_type": "code",
   "execution_count": 243,
   "id": "1acb679e",
   "metadata": {},
   "outputs": [],
   "source": [
    "# 엑셀파일 저장\n",
    "driver.find_element(\"xpath\",'//*[@id=\"UbiHTMLViewerUbiToolbarButton_SaveButton\"]').click()"
   ]
  },
  {
   "cell_type": "code",
   "execution_count": 232,
   "id": "a583af07",
   "metadata": {
    "scrolled": true
   },
   "outputs": [],
   "source": [
    "#driver.close()"
   ]
  },
  {
   "cell_type": "code",
   "execution_count": 244,
   "id": "0618d4df",
   "metadata": {},
   "outputs": [
    {
     "data": {
      "text/plain": [
       "{'x': 0, 'y': 0}"
      ]
     },
     "execution_count": 244,
     "metadata": {},
     "output_type": "execute_result"
    }
   ],
   "source": [
    "driver.switch_to.window(driver.window_handles[1])"
   ]
  },
  {
   "cell_type": "code",
   "execution_count": 245,
   "id": "51d93890",
   "metadata": {},
   "outputs": [],
   "source": [
    "driver.close()"
   ]
  },
  {
   "cell_type": "code",
   "execution_count": 246,
   "id": "fa90b720",
   "metadata": {},
   "outputs": [
    {
     "data": {
      "text/plain": [
       "{'x': 10, 'y': 10}"
      ]
     },
     "execution_count": 246,
     "metadata": {},
     "output_type": "execute_result"
    }
   ],
   "source": [
    "driver.switch_to.window(driver.window_handles[0])\n",
    "driver.get_window_position(driver.window_handles[0])"
   ]
  },
  {
   "cell_type": "code",
   "execution_count": null,
   "id": "101f2771",
   "metadata": {},
   "outputs": [],
   "source": []
  }
 ],
 "metadata": {
  "kernelspec": {
   "display_name": "Python 3 (ipykernel)",
   "language": "python",
   "name": "python3"
  },
  "language_info": {
   "codemirror_mode": {
    "name": "ipython",
    "version": 3
   },
   "file_extension": ".py",
   "mimetype": "text/x-python",
   "name": "python",
   "nbconvert_exporter": "python",
   "pygments_lexer": "ipython3",
   "version": "3.9.7"
  }
 },
 "nbformat": 4,
 "nbformat_minor": 5
}
